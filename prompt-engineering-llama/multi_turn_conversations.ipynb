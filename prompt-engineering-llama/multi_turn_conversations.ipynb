{
 "cells": [
  {
   "cell_type": "markdown",
   "id": "ec0720fc-a21e-4b12-8cb1-1c71d0fa49ee",
   "metadata": {},
   "source": [
    "# Multi Turn Conversations"
   ]
  },
  {
   "cell_type": "code",
   "execution_count": 1,
   "id": "e2231536-f799-4cc4-a70b-9cf8bb3aeb79",
   "metadata": {
    "height": 2036
   },
   "outputs": [],
   "source": [
    "import os\n",
    "from dotenv import load_dotenv\n",
    "import os\n",
    "from dotenv import load_dotenv, find_dotenv\n",
    "import warnings\n",
    "import requests\n",
    "import json\n",
    "import time\n",
    "# Initailize global variables\n",
    "_ = load_dotenv(find_dotenv())\n",
    "# warnings.filterwarnings('ignore')\n",
    "url = f\"{os.getenv('DLAI_TOGETHER_API_BASE', 'https://api.together.xyz')}/inference\"\n",
    "headers = {\n",
    "        \"Authorization\": f\"Bearer {os.getenv('TOGETHER_API_KEY')}\",\n",
    "        \"Content-Type\": \"application/json\"\n",
    "    }\n",
    "\n",
    "\n",
    "def llama(prompt, \n",
    "          add_inst=True, \n",
    "          model=\"togethercomputer/llama-2-7b-chat\", \n",
    "          temperature=0.0, \n",
    "          max_tokens=1024,\n",
    "          verbose=False,\n",
    "          url=url,\n",
    "          headers=headers,\n",
    "          base=2, # number of seconds to wait\n",
    "          max_tries=3):\n",
    "    \n",
    "    if add_inst:\n",
    "        prompt = f\"[INST]{prompt}[/INST]\"\n",
    "\n",
    "    if verbose:\n",
    "        print(f\"Prompt:\\n{prompt}\\n\")\n",
    "        print(f\"model: {model}\")\n",
    "\n",
    "    data = {\n",
    "            \"model\": model,\n",
    "            \"prompt\": prompt,\n",
    "            \"temperature\": temperature,\n",
    "            \"max_tokens\": max_tokens\n",
    "        }\n",
    "\n",
    "    # Allow multiple attempts to call the API incase of downtime.\n",
    "    # Return provided response to user after 3 failed attempts.    \n",
    "    wait_seconds = [base**i for i in range(max_tries)]\n",
    "\n",
    "    for num_tries in range(max_tries):\n",
    "        try:\n",
    "            response = requests.post(url, headers=headers, json=data)\n",
    "            return response.json()['output']['choices'][0]['text']\n",
    "        except Exception as e:\n",
    "            if response.status_code != 500:\n",
    "                return response.json()\n",
    "\n",
    "            print(f\"error message: {e}\")\n",
    "            print(f\"response object: {response}\")\n",
    "            print(f\"num_tries {num_tries}\")\n",
    "            print(f\"Waiting {wait_seconds[num_tries]} seconds before automatically trying again.\")\n",
    "            time.sleep(wait_seconds[num_tries])\n",
    " \n",
    "    print(f\"Tried {max_tries} times to make API call to get a valid response object\")\n",
    "    print(\"Returning provided response\")\n",
    "    return response\n",
    "\n",
    "\n",
    "def llama_chat(prompts, \n",
    "               responses,\n",
    "               model=\"togethercomputer/llama-2-7b-chat\", \n",
    "               temperature=0.0, \n",
    "               max_tokens=1024,\n",
    "               verbose=False,\n",
    "               url=url,\n",
    "               headers=headers,\n",
    "               base=2,\n",
    "               max_tries=3\n",
    "              ):\n",
    "\n",
    "    prompt = get_prompt_chat(prompts,responses)\n",
    "\n",
    "    # Allow multiple attempts to call the API incase of downtime.\n",
    "    # Return provided response to user after 3 failed attempts.    \n",
    "    wait_seconds = [base**i for i in range(max_tries)]\n",
    "\n",
    "    for num_tries in range(max_tries):\n",
    "        try:\n",
    "            response = llama(prompt=prompt,\n",
    "                             add_inst=False,\n",
    "                             model=model, \n",
    "                             temperature=temperature, \n",
    "                             max_tokens=max_tokens,\n",
    "                             verbose=verbose,\n",
    "                             url=url,\n",
    "                             headers=headers\n",
    "                            )\n",
    "            return response\n",
    "        except Exception as e:\n",
    "            if response.status_code != 500:\n",
    "                return response.json()\n",
    "\n",
    "            print(f\"error message: {e}\")\n",
    "            print(f\"response object: {response}\")\n",
    "            print(f\"num_tries {num_tries}\")\n",
    "            print(f\"Waiting {wait_seconds[num_tries]} seconds before automatically trying again.\")\n",
    "            time.sleep(wait_seconds[num_tries])\n",
    " \n",
    "    print(f\"Tried {max_tries} times to make API call to get a valid response object\")\n",
    "    print(\"Returning provided response\")\n",
    "    return response\n",
    "\n",
    "\n",
    "def get_prompt_chat(prompts, responses):\n",
    "  prompt_chat = f\"<s>[INST] {prompts[0]} [/INST]\"\n",
    "  for n, response in enumerate(responses):\n",
    "    prompt = prompts[n + 1]\n",
    "    prompt_chat += f\"\\n{response}\\n </s><s>[INST] \\n{ prompt }\\n [/INST]\"\n",
    "\n",
    "  return prompt_chat\n"
   ]
  },
  {
   "cell_type": "markdown",
   "id": "84c51a7d-f4f6-4917-85e8-b62d4a6db72d",
   "metadata": {},
   "source": [
    "### LLMs are stateless\n",
    "LLMs don't remember your previous interactions with them by default."
   ]
  },
  {
   "cell_type": "code",
   "execution_count": 2,
   "id": "29f01f0f-18d3-4103-a5c5-e16d073ea8e1",
   "metadata": {
    "height": 98
   },
   "outputs": [
    {
     "name": "stdout",
     "output_type": "stream",
     "text": [
      "{'id': '901e9e7e7865eb2e-SJC', 'error': {'message': 'Unable to access non-serverless model togethercomputer/llama-2-7b-chat. Please visit https://api.together.ai/models/togethercomputer/llama-2-7b-chat to create and start a new dedicated endpoint for the model.', 'type': 'invalid_request_error', 'param': None, 'code': 'model_not_available'}}\n"
     ]
    }
   ],
   "source": [
    "prompt = \"\"\"\n",
    "    What are fun activities I can do this weekend?\n",
    "\"\"\"\n",
    "response = llama(prompt)\n",
    "print(response)"
   ]
  },
  {
   "cell_type": "code",
   "execution_count": 4,
   "id": "8bfc928c-62b1-4159-aee5-1d29ea8b1621",
   "metadata": {
    "height": 98
   },
   "outputs": [
    {
     "name": "stdout",
     "output_type": "stream",
     "text": [
      "{'id': '901e9fd8ad6ef9f9-SJC', 'error': {'message': 'Unable to access non-serverless model togethercomputer/llama-2-7b-chat. Please visit https://api.together.ai/models/togethercomputer/llama-2-7b-chat to create and start a new dedicated endpoint for the model.', 'type': 'invalid_request_error', 'param': None, 'code': 'model_not_available'}}\n"
     ]
    }
   ],
   "source": [
    "prompt_2 = \"\"\"\n",
    "Which of these would be good for my health?\n",
    "\"\"\"\n",
    "response_2 = llama(prompt_2)\n",
    "print(response_2)"
   ]
  },
  {
   "cell_type": "markdown",
   "id": "b02be5f2-9289-4c4e-b886-95c0f71dc1c6",
   "metadata": {},
   "source": [
    "### Constructing multi-turn prompts\n",
    "You need to provide prior prompts and responses as part of the context of each new turn in the conversation."
   ]
  },
  {
   "cell_type": "code",
   "execution_count": 5,
   "id": "09b0135e-3b53-42f7-ad04-821abed0a571",
   "metadata": {
    "height": 81
   },
   "outputs": [],
   "source": [
    "prompt_1 = \"\"\"\n",
    "    What are fun activities I can do this weekend?\n",
    "\"\"\"\n",
    "response_1 = llama(prompt_1)"
   ]
  },
  {
   "cell_type": "code",
   "execution_count": 6,
   "id": "174d6d46-a985-4dc1-bc78-a780ac79c820",
   "metadata": {
    "height": 64
   },
   "outputs": [],
   "source": [
    "prompt_2 = \"\"\"\n",
    "Which of these would be good for my health?\n",
    "\"\"\""
   ]
  },
  {
   "cell_type": "code",
   "execution_count": 7,
   "id": "c28bb016-f6ba-40c8-9005-6d7a01c9c9b9",
   "metadata": {
    "height": 132
   },
   "outputs": [
    {
     "name": "stdout",
     "output_type": "stream",
     "text": [
      "\n",
      "<s>[INST] \n",
      "    What are fun activities I can do this weekend?\n",
      " [/INST]\n",
      "{'id': '901ea019ee4df993-SJC', 'error': {'message': 'Unable to access non-serverless model togethercomputer/llama-2-7b-chat. Please visit https://api.together.ai/models/togethercomputer/llama-2-7b-chat to create and start a new dedicated endpoint for the model.', 'type': 'invalid_request_error', 'param': None, 'code': 'model_not_available'}}\n",
      "</s>\n",
      "<s>[INST] \n",
      "Which of these would be good for my health?\n",
      " [/INST]\n",
      "\n"
     ]
    }
   ],
   "source": [
    "chat_prompt = f\"\"\"\n",
    "<s>[INST] {prompt_1} [/INST]\n",
    "{response_1}\n",
    "</s>\n",
    "<s>[INST] {prompt_2} [/INST]\n",
    "\"\"\"\n",
    "print(chat_prompt)"
   ]
  },
  {
   "cell_type": "code",
   "execution_count": null,
   "id": "4a84eeb7-d9a9-43b8-ae45-84319acacbbd",
   "metadata": {
    "height": 64
   },
   "outputs": [],
   "source": [
    "response_2 = llama(chat_prompt,\n",
    "                 add_inst=False,\n",
    "                 verbose=True)"
   ]
  },
  {
   "cell_type": "code",
   "execution_count": null,
   "id": "71c6d6b0-e349-4b19-8deb-3a264f5ac549",
   "metadata": {
    "height": 30
   },
   "outputs": [],
   "source": [
    "print(response_2)"
   ]
  },
  {
   "cell_type": "markdown",
   "id": "97681aed-60be-4090-a149-ec55980da388",
   "metadata": {},
   "source": [
    "### Use llama chat helper function"
   ]
  },
  {
   "cell_type": "code",
   "execution_count": 8,
   "id": "215f7036-14d1-4f95-bcb3-1c8de3a77628",
   "metadata": {
    "height": 81
   },
   "outputs": [],
   "source": [
    "prompt_1 = \"\"\"\n",
    "    What are fun activities I can do this weekend?\n",
    "\"\"\"\n",
    "response_1 = llama(prompt_1)"
   ]
  },
  {
   "cell_type": "code",
   "execution_count": 9,
   "id": "345f48db-2908-4298-a056-67514cc45b39",
   "metadata": {
    "height": 64
   },
   "outputs": [],
   "source": [
    "prompt_2 = \"\"\"\n",
    "Which of these would be good for my health?\n",
    "\"\"\""
   ]
  },
  {
   "cell_type": "code",
   "execution_count": 10,
   "id": "dc353f4a-970a-470e-aa1f-cab44c393261",
   "metadata": {
    "height": 47
   },
   "outputs": [],
   "source": [
    "prompts = [prompt_1,prompt_2]\n",
    "responses = [response_1]"
   ]
  },
  {
   "cell_type": "code",
   "execution_count": 11,
   "id": "ef09d61b-f6a9-4177-9682-7582bdbc342b",
   "metadata": {
    "height": 47
   },
   "outputs": [
    {
     "name": "stdout",
     "output_type": "stream",
     "text": [
      "Prompt:\n",
      "<s>[INST] \n",
      "    What are fun activities I can do this weekend?\n",
      " [/INST]\n",
      "{'id': '901ea0893f2067ee-SJC', 'error': {'message': 'Unable to access non-serverless model togethercomputer/llama-2-7b-chat. Please visit https://api.together.ai/models/togethercomputer/llama-2-7b-chat to create and start a new dedicated endpoint for the model.', 'type': 'invalid_request_error', 'param': None, 'code': 'model_not_available'}}\n",
      " </s><s>[INST] \n",
      "\n",
      "Which of these would be good for my health?\n",
      "\n",
      " [/INST]\n",
      "\n",
      "model: togethercomputer/llama-2-7b-chat\n"
     ]
    }
   ],
   "source": [
    "# Pass prompts and responses to llama_chat function\n",
    "response_2 = llama_chat(prompts,responses,verbose=True)"
   ]
  },
  {
   "cell_type": "code",
   "execution_count": 12,
   "id": "1c7cd767-3517-4f5e-9f11-708ec42e1e83",
   "metadata": {
    "height": 30
   },
   "outputs": [
    {
     "name": "stdout",
     "output_type": "stream",
     "text": [
      "{'id': '901ea09c4922eb2c-SJC', 'error': {'message': 'Unable to access non-serverless model togethercomputer/llama-2-7b-chat. Please visit https://api.together.ai/models/togethercomputer/llama-2-7b-chat to create and start a new dedicated endpoint for the model.', 'type': 'invalid_request_error', 'param': None, 'code': 'model_not_available'}}\n"
     ]
    }
   ],
   "source": [
    "print(response_2)"
   ]
  },
  {
   "cell_type": "markdown",
   "id": "a3be0623-1d41-41bb-8bb5-261960761652",
   "metadata": {},
   "source": [
    "### Try it Yourself!"
   ]
  },
  {
   "cell_type": "code",
   "execution_count": 13,
   "id": "60b99648-3ce1-45ce-a2b5-7dffeed1eea9",
   "metadata": {
    "height": 149
   },
   "outputs": [
    {
     "name": "stdout",
     "output_type": "stream",
     "text": [
      "Prompt:\n",
      "<s>[INST] \n",
      "    What are fun activities I can do this weekend?\n",
      " [/INST]\n",
      "{'id': '901ea0893f2067ee-SJC', 'error': {'message': 'Unable to access non-serverless model togethercomputer/llama-2-7b-chat. Please visit https://api.together.ai/models/togethercomputer/llama-2-7b-chat to create and start a new dedicated endpoint for the model.', 'type': 'invalid_request_error', 'param': None, 'code': 'model_not_available'}}\n",
      " </s><s>[INST] \n",
      "\n",
      "Which of these would be good for my health?\n",
      "\n",
      " [/INST]\n",
      "{'id': '901ea09c4922eb2c-SJC', 'error': {'message': 'Unable to access non-serverless model togethercomputer/llama-2-7b-chat. Please visit https://api.together.ai/models/togethercomputer/llama-2-7b-chat to create and start a new dedicated endpoint for the model.', 'type': 'invalid_request_error', 'param': None, 'code': 'model_not_available'}}\n",
      " </s><s>[INST] \n",
      "Which of these activites would be fun with friends?\n",
      " [/INST]\n",
      "\n",
      "model: togethercomputer/llama-2-7b-chat\n",
      "{'id': '901ea0b38a9715d8-SJC', 'error': {'message': 'Unable to access non-serverless model togethercomputer/llama-2-7b-chat. Please visit https://api.together.ai/models/togethercomputer/llama-2-7b-chat to create and start a new dedicated endpoint for the model.', 'type': 'invalid_request_error', 'param': None, 'code': 'model_not_available'}}\n"
     ]
    }
   ],
   "source": [
    "# replace prompt_3 with your own question!\n",
    "prompt_3 = \"Which of these activites would be fun with friends?\"\n",
    "prompts = [prompt_1, prompt_2, prompt_3]\n",
    "responses = [response_1, response_2]\n",
    "\n",
    "response_3 = llama_chat(prompts, responses, verbose=True)\n",
    "\n",
    "print(response_3)"
   ]
  },
  {
   "cell_type": "code",
   "execution_count": null,
   "id": "ae7864f5-1a60-4072-a7c9-3e9ccf3ec99d",
   "metadata": {
    "height": 30
   },
   "outputs": [],
   "source": []
  }
 ],
 "metadata": {
  "kernelspec": {
   "display_name": "Python 3 (ipykernel)",
   "language": "python",
   "name": "python3"
  },
  "language_info": {
   "codemirror_mode": {
    "name": "ipython",
    "version": 3
   },
   "file_extension": ".py",
   "mimetype": "text/x-python",
   "name": "python",
   "nbconvert_exporter": "python",
   "pygments_lexer": "ipython3",
   "version": "3.10.14"
  }
 },
 "nbformat": 4,
 "nbformat_minor": 5
}
